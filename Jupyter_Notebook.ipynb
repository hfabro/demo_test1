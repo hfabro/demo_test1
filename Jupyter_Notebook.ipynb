{
 "cells": [
  {
   "cell_type": "markdown",
   "metadata": {},
   "source": [
    "<center>\n",
    "    <img src=\"https://cf-courses-data.s3.us.cloud-object-storage.appdomain.cloud/IBMDeveloperSkillsNetwork-DS0105EN-SkillsNetwork/labs/Module2/images/SN_web_lightmode.png\" width=\"300\" alt=\"cognitiveclass.ai logo\">\n",
    "</center>\n"
   ]
  },
  {
   "cell_type": "markdown",
   "metadata": {},
   "source": [
    "#### Add your code below following the instructions given in the course\n"
   ]
  },
  {
   "cell_type": "markdown",
   "metadata": {},
   "source": [
    "# My peer graded assignment for Tools Of Data Science"
   ]
  },
  {
   "cell_type": "markdown",
   "metadata": {},
   "source": [
    "**My name is Hussain Fabro & the following list are examples of what i have learned so far**"
   ]
  },
  {
   "cell_type": "markdown",
   "metadata": {},
   "source": [
    "**examples of data science languages**\n",
    "* Python  \n",
    "* R  \n",
    "* SQL \n",
    "* Java\n",
    "* Scala\n",
    "* MATLAB\n",
    "* Julia"
   ]
  },
  {
   "cell_type": "markdown",
   "metadata": {},
   "source": [
    "**examples of data science libraries**\n",
    "- NumPy  \n",
    "- Pandas  \n",
    "- TensorFlow  \n",
    "- Pytorch  \n",
    "- ggplot2  \n",
    "- Apache Spark\n"
   ]
  },
  {
   "cell_type": "markdown",
   "metadata": {},
   "source": [
    "**table of data science tools**\n",
    "| Column 1 | Column 2 |\n",
    "| --- | --- |\n",
    "| Jupyter Notebook | R studio |\n",
    "| IBM Watson Studio | JupyterLab |\n",
    "| GitHub | DataSpell |"
   ]
  },
  {
   "cell_type": "markdown",
   "metadata": {},
   "source": [
    "**The following are examples of arithmetic expression**"
   ]
  },
  {
   "cell_type": "code",
   "execution_count": 1,
   "metadata": {},
   "outputs": [
    {
     "name": "stdout",
     "output_type": "stream",
     "text": [
      "Multiplication result: 350\n",
      "Addition result: 45\n"
     ]
    }
   ],
   "source": [
    "num1 = 10\n",
    "num2 = 35\n",
    "multiply_result = num1 * num2\n",
    "add_result = num1 + num2\n",
    "print(\"Multiplication result:\", multiply_result)\n",
    "print(\"Addition result:\", add_result)"
   ]
  },
  {
   "cell_type": "code",
   "execution_count": 3,
   "metadata": {},
   "outputs": [
    {
     "name": "stdout",
     "output_type": "stream",
     "text": [
      "360 minutes is equal to 6.0 hours.\n"
     ]
    }
   ],
   "source": [
    "minutes = 360\n",
    "hours = minutes / 60\n",
    "print(minutes, \"minutes is equal to\", hours, \"hours.\")"
   ]
  },
  {
   "cell_type": "markdown",
   "metadata": {},
   "source": [
    "## the objectives of this project are:\n",
    "1. Review what data science languages have been covered\n",
    "2. Review what data science libraries have been covered\n",
    "3. Review what data science tools have been covered\n",
    "4. Demonstrate simple arithmetic expressions"
   ]
  },
  {
   "cell_type": "markdown",
   "metadata": {},
   "source": [
    "Created by:  \n",
    "**Hussain Fabro**"
   ]
  },
  {
   "cell_type": "code",
   "execution_count": null,
   "metadata": {},
   "outputs": [],
   "source": []
  }
 ],
 "metadata": {
  "kernelspec": {
   "display_name": "Python",
   "language": "python",
   "name": "conda-env-python-py"
  },
  "language_info": {
   "codemirror_mode": {
    "name": "ipython",
    "version": 3
   },
   "file_extension": ".py",
   "mimetype": "text/x-python",
   "name": "python",
   "nbconvert_exporter": "python",
   "pygments_lexer": "ipython3",
   "version": "3.7.12"
  }
 },
 "nbformat": 4,
 "nbformat_minor": 4
}
